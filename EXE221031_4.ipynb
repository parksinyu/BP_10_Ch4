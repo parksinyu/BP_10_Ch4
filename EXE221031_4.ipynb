{
  "nbformat": 4,
  "nbformat_minor": 0,
  "metadata": {
    "colab": {
      "provenance": [],
      "collapsed_sections": [],
      "authorship_tag": "ABX9TyOZcnrKHsTq8a2/PFpe9XyG",
      "include_colab_link": true
    },
    "kernelspec": {
      "name": "python3",
      "display_name": "Python 3"
    },
    "language_info": {
      "name": "python"
    }
  },
  "cells": [
    {
      "cell_type": "markdown",
      "metadata": {
        "id": "view-in-github",
        "colab_type": "text"
      },
      "source": [
        "<a href=\"https://colab.research.google.com/github/parksinyu/BP_10_Ch4/blob/main/EXE221031_4.ipynb\" target=\"_parent\"><img src=\"https://colab.research.google.com/assets/colab-badge.svg\" alt=\"Open In Colab\"/></a>"
      ]
    },
    {
      "cell_type": "code",
      "source": [
        "import turtle\n",
        "t = turtle.Turtle()\n",
        "t.shape(\"turtle\")\n",
        "\n",
        "color_list = [ \"yellow\", \"red\", \"blue\" ]\n",
        "\n",
        "t.fillcolor(color_list[0])\n",
        "t.begin_fill()\n",
        "t.circle(70)\n",
        "t.end_fill()\n",
        "\n",
        "t.forward(140)\n",
        "t.fillcolor(color_list[1])\n",
        "t.begin_fill()\n",
        "t.circle(70)\n",
        "t.end_fill()\n",
        "\n",
        "t.forward(140)\n",
        "t.fillcolor(color_list[2])\n",
        "t.begin_fill()\n",
        "t.circle(70)\n",
        "t.end_fill()"
      ],
      "metadata": {
        "id": "pA3JSEtOKZPK"
      },
      "execution_count": null,
      "outputs": []
    }
  ]
}